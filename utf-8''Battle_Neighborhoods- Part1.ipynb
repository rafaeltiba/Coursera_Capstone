{
  "cells": [
    {
      "metadata": {},
      "cell_type": "markdown",
      "source": "<b><font size= +2>Battle of Neghborhoods (PART 1: Problem Description)</b></font size>\n\n\n\n"
    },
    {
      "metadata": {},
      "cell_type": "markdown",
      "source": "<b> CAPSTONE PROJECT: Applied Data Science </b>\n<br>\n<i> by Rafael M. Tiba </i>\n<br><br>\n<br>\n<u> <font size= +1>Where to open a new Pizza Place in NY ? </u></font size>\n<br>\n<br>\n<b> INTRODUCTION: </b> <br>\n\nThis final project will use knowledge on Data Science to find the best locations for Pizza Places throughout New York.\n\n<br>\nNew York has approximately 20,000,000 restaurants so if one wants to open a new one, data driven decisions will be of paramount importance. In the present work, data from foursquare will be scraped to yield a complete analysis on the competitors in the pizza places business. \n<br><br>\nAs of the present date, a google search for \"Best Pizza in New York\"resulted in at least 10 rankings from different sites and no consensus have been observed. Without the knowledge of data science tools, one could again, google \"how many pizza places are there in new york\" and get a wild variety of answers from quora, reddit, business insider and so on.\n<br>\nNo reliable or easy to find answer is available even though all data is there!\n<br>"
    },
    {
      "metadata": {},
      "cell_type": "markdown",
      "source": "<b> DATA: </b> <br><br>\n\nIn order to find relevant information regarding where to open a new pizza place, data on New York City is required. Specifically, data regarding neighborhoods, boroughs, venues' latitudes, longitudes, and venues numbers of likes.\n<br><br>\nNY data containing the neighborhoods and boroughs, latitudes, and longitudes will be obtained from the data source: https://cocl.us/new_york_dataset\n<br><br>\nNY data containing neighborhood boundaries will be obtained from the data source: https://data.cityofnewyork.us/City-Government/Borough-Boundaries/tqmj-j8zm\n<br><br>\nAll data related to locations and quality of Italian restaurants will be obtained via the FourSquare API.\n<br>"
    },
    {
      "metadata": {},
      "cell_type": "markdown",
      "source": "<b> METHODOLOGY: </b> <br>\n<br><br><i> Part 1: Data gathering and cleansing </i><br><br>\n• Data will be collected from https://cocl.us/new_york_dataset <br>\n• Fousquare API will be called to locate all pizza places in NY <br>\n• Also, Foursquare API will be used to retrieve total amount of likes for each property in the last year <br>\n• All data will be cleaned and processed into a dataframe. <br>\n<br><br><i> Part 2: Data Analysis </i><br><br>\n• Pizza places numbers will be consolidated by Borough and Neighborhood<br>\n• Basic Graphical analysis will be used to compare Boroughs regarding amount of Pizza Places<br>\n• Top/Bottom 10 analysis will be used to screen top venues (and also the worst ones) to provide a list of potential properties that should be visited as benchmarks<br>\n<br><br><i> Part 3: Narrowing Down </i><br><br>\n• Due to restrictions imposed by Foursquare API, that limit the number of premium calls per day, we will use the number of likes as one of indicators of popularity, even though this could be distorted by new pizza places or places with more or less space to accomodate gests. <br>\n• In part 3, we will be narrowing down to Manhattan, there we will search for top performer (most likes) and bottom performer (least likes) <br>\n• Likes will be consolidated in Manhattan's Neighborhoods to analyze top performers competitors (more likes = more popularity)<br>\n• Number of venues will be consolidate to show which neighborhoods have more competitors <br>\n• A market index will be created combining both two info above (MKT_INDEX)<br>\n• And finnaly, a choropleth map will be created showing these results\n<br>"
    },
    {
      "metadata": {
        "trusted": true
      },
      "cell_type": "code",
      "source": "",
      "execution_count": null,
      "outputs": []
    }
  ],
  "metadata": {
    "kernelspec": {
      "name": "python36",
      "display_name": "Python 3.6",
      "language": "python"
    },
    "language_info": {
      "mimetype": "text/x-python",
      "nbconvert_exporter": "python",
      "name": "python",
      "pygments_lexer": "ipython3",
      "version": "3.6.6",
      "file_extension": ".py",
      "codemirror_mode": {
        "version": 3,
        "name": "ipython"
      }
    }
  },
  "nbformat": 4,
  "nbformat_minor": 4
}